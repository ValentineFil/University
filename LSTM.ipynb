{
  "metadata": {
    "language_info": {
      "codemirror_mode": {
        "name": "python",
        "version": 3
      },
      "file_extension": ".py",
      "mimetype": "text/x-python",
      "name": "python",
      "nbconvert_exporter": "python",
      "pygments_lexer": "ipython3",
      "version": "3.8"
    },
    "kernelspec": {
      "name": "python",
      "display_name": "Python (Pyodide)",
      "language": "python"
    },
    "colab": {
      "name": "LSTM",
      "provenance": [],
      "collapsed_sections": []
    }
  },
  "nbformat_minor": 0,
  "nbformat": 4,
  "cells": [
    {
      "cell_type": "code",
      "source": [
        "import pandas as pd\n",
        "import matplotlib as plt"
      ],
      "metadata": {
        "trusted": true,
        "id": "KJWnshW0dD1U"
      },
      "execution_count": 1,
      "outputs": []
    },
    {
      "cell_type": "code",
      "source": [
        "import torch\n",
        "import torch.nn as nn\n",
        "import matplotlib.pyplot as plt"
      ],
      "metadata": {
        "id": "yjvw6vaFe_it"
      },
      "execution_count": 2,
      "outputs": []
    },
    {
      "cell_type": "code",
      "source": [
        "from google.colab import drive\n",
        "drive.mount('/content/drive')"
      ],
      "metadata": {
        "colab": {
          "base_uri": "https://localhost:8080/"
        },
        "id": "zUOBOWbtdFal",
        "outputId": "d24ea7a6-17c4-412d-b20b-7af64505cdb2"
      },
      "execution_count": 3,
      "outputs": [
        {
          "output_type": "stream",
          "name": "stdout",
          "text": [
            "Mounted at /content/drive\n"
          ]
        }
      ]
    },
    {
      "cell_type": "code",
      "source": [
        "query_frame = pd.read_csv('/content/drive/MyDrive/Colab Notebooks/Query.csv',sep=\";\")\n",
        "#train_df = pd.read_csv('/content/drive/MyDrive/Colab Notebooks/Titanic+Data.csv', sep = \";\", decimal=',')\n",
        "query_frame"
      ],
      "metadata": {
        "colab": {
          "base_uri": "https://localhost:8080/",
          "height": 424
        },
        "id": "n0Paorb5dGUR",
        "outputId": "6f4fa5c2-5def-42a0-f697-6fd00696149f"
      },
      "execution_count": 4,
      "outputs": [
        {
          "output_type": "execute_result",
          "data": {
            "text/plain": [
              "      count(event)             hour_  Unnamed: 2 Unnamed: 3\n",
              "0               51  09.06.2022 18:00         NaN        NaN\n",
              "1              185  09.06.2022 19:00         NaN        NaN\n",
              "2              136  09.06.2022 20:00         NaN        NaN\n",
              "3              132  09.06.2022 21:00         NaN        NaN\n",
              "4               93  09.06.2022 22:00         NaN        NaN\n",
              "...            ...               ...         ...        ...\n",
              "1249            72  31.07.2022 19:00         NaN        NaN\n",
              "1250            66  31.07.2022 20:00         NaN        NaN\n",
              "1251            53  31.07.2022 21:00         NaN        NaN\n",
              "1252            56  31.07.2022 22:00         NaN        NaN\n",
              "1253            31  31.07.2022 23:00         NaN        NaN\n",
              "\n",
              "[1254 rows x 4 columns]"
            ],
            "text/html": [
              "\n",
              "  <div id=\"df-607f1187-c6cd-406a-a9e5-c99ba98683de\">\n",
              "    <div class=\"colab-df-container\">\n",
              "      <div>\n",
              "<style scoped>\n",
              "    .dataframe tbody tr th:only-of-type {\n",
              "        vertical-align: middle;\n",
              "    }\n",
              "\n",
              "    .dataframe tbody tr th {\n",
              "        vertical-align: top;\n",
              "    }\n",
              "\n",
              "    .dataframe thead th {\n",
              "        text-align: right;\n",
              "    }\n",
              "</style>\n",
              "<table border=\"1\" class=\"dataframe\">\n",
              "  <thead>\n",
              "    <tr style=\"text-align: right;\">\n",
              "      <th></th>\n",
              "      <th>count(event)</th>\n",
              "      <th>hour_</th>\n",
              "      <th>Unnamed: 2</th>\n",
              "      <th>Unnamed: 3</th>\n",
              "    </tr>\n",
              "  </thead>\n",
              "  <tbody>\n",
              "    <tr>\n",
              "      <th>0</th>\n",
              "      <td>51</td>\n",
              "      <td>09.06.2022 18:00</td>\n",
              "      <td>NaN</td>\n",
              "      <td>NaN</td>\n",
              "    </tr>\n",
              "    <tr>\n",
              "      <th>1</th>\n",
              "      <td>185</td>\n",
              "      <td>09.06.2022 19:00</td>\n",
              "      <td>NaN</td>\n",
              "      <td>NaN</td>\n",
              "    </tr>\n",
              "    <tr>\n",
              "      <th>2</th>\n",
              "      <td>136</td>\n",
              "      <td>09.06.2022 20:00</td>\n",
              "      <td>NaN</td>\n",
              "      <td>NaN</td>\n",
              "    </tr>\n",
              "    <tr>\n",
              "      <th>3</th>\n",
              "      <td>132</td>\n",
              "      <td>09.06.2022 21:00</td>\n",
              "      <td>NaN</td>\n",
              "      <td>NaN</td>\n",
              "    </tr>\n",
              "    <tr>\n",
              "      <th>4</th>\n",
              "      <td>93</td>\n",
              "      <td>09.06.2022 22:00</td>\n",
              "      <td>NaN</td>\n",
              "      <td>NaN</td>\n",
              "    </tr>\n",
              "    <tr>\n",
              "      <th>...</th>\n",
              "      <td>...</td>\n",
              "      <td>...</td>\n",
              "      <td>...</td>\n",
              "      <td>...</td>\n",
              "    </tr>\n",
              "    <tr>\n",
              "      <th>1249</th>\n",
              "      <td>72</td>\n",
              "      <td>31.07.2022 19:00</td>\n",
              "      <td>NaN</td>\n",
              "      <td>NaN</td>\n",
              "    </tr>\n",
              "    <tr>\n",
              "      <th>1250</th>\n",
              "      <td>66</td>\n",
              "      <td>31.07.2022 20:00</td>\n",
              "      <td>NaN</td>\n",
              "      <td>NaN</td>\n",
              "    </tr>\n",
              "    <tr>\n",
              "      <th>1251</th>\n",
              "      <td>53</td>\n",
              "      <td>31.07.2022 21:00</td>\n",
              "      <td>NaN</td>\n",
              "      <td>NaN</td>\n",
              "    </tr>\n",
              "    <tr>\n",
              "      <th>1252</th>\n",
              "      <td>56</td>\n",
              "      <td>31.07.2022 22:00</td>\n",
              "      <td>NaN</td>\n",
              "      <td>NaN</td>\n",
              "    </tr>\n",
              "    <tr>\n",
              "      <th>1253</th>\n",
              "      <td>31</td>\n",
              "      <td>31.07.2022 23:00</td>\n",
              "      <td>NaN</td>\n",
              "      <td>NaN</td>\n",
              "    </tr>\n",
              "  </tbody>\n",
              "</table>\n",
              "<p>1254 rows × 4 columns</p>\n",
              "</div>\n",
              "      <button class=\"colab-df-convert\" onclick=\"convertToInteractive('df-607f1187-c6cd-406a-a9e5-c99ba98683de')\"\n",
              "              title=\"Convert this dataframe to an interactive table.\"\n",
              "              style=\"display:none;\">\n",
              "        \n",
              "  <svg xmlns=\"http://www.w3.org/2000/svg\" height=\"24px\"viewBox=\"0 0 24 24\"\n",
              "       width=\"24px\">\n",
              "    <path d=\"M0 0h24v24H0V0z\" fill=\"none\"/>\n",
              "    <path d=\"M18.56 5.44l.94 2.06.94-2.06 2.06-.94-2.06-.94-.94-2.06-.94 2.06-2.06.94zm-11 1L8.5 8.5l.94-2.06 2.06-.94-2.06-.94L8.5 2.5l-.94 2.06-2.06.94zm10 10l.94 2.06.94-2.06 2.06-.94-2.06-.94-.94-2.06-.94 2.06-2.06.94z\"/><path d=\"M17.41 7.96l-1.37-1.37c-.4-.4-.92-.59-1.43-.59-.52 0-1.04.2-1.43.59L10.3 9.45l-7.72 7.72c-.78.78-.78 2.05 0 2.83L4 21.41c.39.39.9.59 1.41.59.51 0 1.02-.2 1.41-.59l7.78-7.78 2.81-2.81c.8-.78.8-2.07 0-2.86zM5.41 20L4 18.59l7.72-7.72 1.47 1.35L5.41 20z\"/>\n",
              "  </svg>\n",
              "      </button>\n",
              "      \n",
              "  <style>\n",
              "    .colab-df-container {\n",
              "      display:flex;\n",
              "      flex-wrap:wrap;\n",
              "      gap: 12px;\n",
              "    }\n",
              "\n",
              "    .colab-df-convert {\n",
              "      background-color: #E8F0FE;\n",
              "      border: none;\n",
              "      border-radius: 50%;\n",
              "      cursor: pointer;\n",
              "      display: none;\n",
              "      fill: #1967D2;\n",
              "      height: 32px;\n",
              "      padding: 0 0 0 0;\n",
              "      width: 32px;\n",
              "    }\n",
              "\n",
              "    .colab-df-convert:hover {\n",
              "      background-color: #E2EBFA;\n",
              "      box-shadow: 0px 1px 2px rgba(60, 64, 67, 0.3), 0px 1px 3px 1px rgba(60, 64, 67, 0.15);\n",
              "      fill: #174EA6;\n",
              "    }\n",
              "\n",
              "    [theme=dark] .colab-df-convert {\n",
              "      background-color: #3B4455;\n",
              "      fill: #D2E3FC;\n",
              "    }\n",
              "\n",
              "    [theme=dark] .colab-df-convert:hover {\n",
              "      background-color: #434B5C;\n",
              "      box-shadow: 0px 1px 3px 1px rgba(0, 0, 0, 0.15);\n",
              "      filter: drop-shadow(0px 1px 2px rgba(0, 0, 0, 0.3));\n",
              "      fill: #FFFFFF;\n",
              "    }\n",
              "  </style>\n",
              "\n",
              "      <script>\n",
              "        const buttonEl =\n",
              "          document.querySelector('#df-607f1187-c6cd-406a-a9e5-c99ba98683de button.colab-df-convert');\n",
              "        buttonEl.style.display =\n",
              "          google.colab.kernel.accessAllowed ? 'block' : 'none';\n",
              "\n",
              "        async function convertToInteractive(key) {\n",
              "          const element = document.querySelector('#df-607f1187-c6cd-406a-a9e5-c99ba98683de');\n",
              "          const dataTable =\n",
              "            await google.colab.kernel.invokeFunction('convertToInteractive',\n",
              "                                                     [key], {});\n",
              "          if (!dataTable) return;\n",
              "\n",
              "          const docLinkHtml = 'Like what you see? Visit the ' +\n",
              "            '<a target=\"_blank\" href=https://colab.research.google.com/notebooks/data_table.ipynb>data table notebook</a>'\n",
              "            + ' to learn more about interactive tables.';\n",
              "          element.innerHTML = '';\n",
              "          dataTable['output_type'] = 'display_data';\n",
              "          await google.colab.output.renderOutput(dataTable, element);\n",
              "          const docLink = document.createElement('div');\n",
              "          docLink.innerHTML = docLinkHtml;\n",
              "          element.appendChild(docLink);\n",
              "        }\n",
              "      </script>\n",
              "    </div>\n",
              "  </div>\n",
              "  "
            ]
          },
          "metadata": {},
          "execution_count": 4
        }
      ]
    },
    {
      "cell_type": "code",
      "source": [
        "query_frame=query_frame.drop(columns=['Unnamed: 2'], axis=1)\n",
        "query_frame=query_frame.drop(columns=['Unnamed: 3'], axis=1)"
      ],
      "metadata": {
        "id": "obyhEC15UQor"
      },
      "execution_count": 5,
      "outputs": []
    },
    {
      "cell_type": "code",
      "source": [
        "query_frame=query_frame[6:]"
      ],
      "metadata": {
        "id": "SIh-55_Z5qvb"
      },
      "execution_count": 6,
      "outputs": []
    },
    {
      "cell_type": "code",
      "source": [
        "query_frame"
      ],
      "metadata": {
        "id": "04ZgI4RKMxHi",
        "outputId": "ac389839-b395-4f85-cb1b-8a868168496d",
        "colab": {
          "base_uri": "https://localhost:8080/",
          "height": 424
        }
      },
      "execution_count": 7,
      "outputs": [
        {
          "output_type": "execute_result",
          "data": {
            "text/plain": [
              "      count(event)             hour_\n",
              "6               56   10.06.2022 0:00\n",
              "7               27   10.06.2022 1:00\n",
              "8               25   10.06.2022 2:00\n",
              "9               24   10.06.2022 3:00\n",
              "10              20   10.06.2022 4:00\n",
              "...            ...               ...\n",
              "1249            72  31.07.2022 19:00\n",
              "1250            66  31.07.2022 20:00\n",
              "1251            53  31.07.2022 21:00\n",
              "1252            56  31.07.2022 22:00\n",
              "1253            31  31.07.2022 23:00\n",
              "\n",
              "[1248 rows x 2 columns]"
            ],
            "text/html": [
              "\n",
              "  <div id=\"df-8bedcc8a-6b9d-4865-ac17-6ce7c00c2733\">\n",
              "    <div class=\"colab-df-container\">\n",
              "      <div>\n",
              "<style scoped>\n",
              "    .dataframe tbody tr th:only-of-type {\n",
              "        vertical-align: middle;\n",
              "    }\n",
              "\n",
              "    .dataframe tbody tr th {\n",
              "        vertical-align: top;\n",
              "    }\n",
              "\n",
              "    .dataframe thead th {\n",
              "        text-align: right;\n",
              "    }\n",
              "</style>\n",
              "<table border=\"1\" class=\"dataframe\">\n",
              "  <thead>\n",
              "    <tr style=\"text-align: right;\">\n",
              "      <th></th>\n",
              "      <th>count(event)</th>\n",
              "      <th>hour_</th>\n",
              "    </tr>\n",
              "  </thead>\n",
              "  <tbody>\n",
              "    <tr>\n",
              "      <th>6</th>\n",
              "      <td>56</td>\n",
              "      <td>10.06.2022 0:00</td>\n",
              "    </tr>\n",
              "    <tr>\n",
              "      <th>7</th>\n",
              "      <td>27</td>\n",
              "      <td>10.06.2022 1:00</td>\n",
              "    </tr>\n",
              "    <tr>\n",
              "      <th>8</th>\n",
              "      <td>25</td>\n",
              "      <td>10.06.2022 2:00</td>\n",
              "    </tr>\n",
              "    <tr>\n",
              "      <th>9</th>\n",
              "      <td>24</td>\n",
              "      <td>10.06.2022 3:00</td>\n",
              "    </tr>\n",
              "    <tr>\n",
              "      <th>10</th>\n",
              "      <td>20</td>\n",
              "      <td>10.06.2022 4:00</td>\n",
              "    </tr>\n",
              "    <tr>\n",
              "      <th>...</th>\n",
              "      <td>...</td>\n",
              "      <td>...</td>\n",
              "    </tr>\n",
              "    <tr>\n",
              "      <th>1249</th>\n",
              "      <td>72</td>\n",
              "      <td>31.07.2022 19:00</td>\n",
              "    </tr>\n",
              "    <tr>\n",
              "      <th>1250</th>\n",
              "      <td>66</td>\n",
              "      <td>31.07.2022 20:00</td>\n",
              "    </tr>\n",
              "    <tr>\n",
              "      <th>1251</th>\n",
              "      <td>53</td>\n",
              "      <td>31.07.2022 21:00</td>\n",
              "    </tr>\n",
              "    <tr>\n",
              "      <th>1252</th>\n",
              "      <td>56</td>\n",
              "      <td>31.07.2022 22:00</td>\n",
              "    </tr>\n",
              "    <tr>\n",
              "      <th>1253</th>\n",
              "      <td>31</td>\n",
              "      <td>31.07.2022 23:00</td>\n",
              "    </tr>\n",
              "  </tbody>\n",
              "</table>\n",
              "<p>1248 rows × 2 columns</p>\n",
              "</div>\n",
              "      <button class=\"colab-df-convert\" onclick=\"convertToInteractive('df-8bedcc8a-6b9d-4865-ac17-6ce7c00c2733')\"\n",
              "              title=\"Convert this dataframe to an interactive table.\"\n",
              "              style=\"display:none;\">\n",
              "        \n",
              "  <svg xmlns=\"http://www.w3.org/2000/svg\" height=\"24px\"viewBox=\"0 0 24 24\"\n",
              "       width=\"24px\">\n",
              "    <path d=\"M0 0h24v24H0V0z\" fill=\"none\"/>\n",
              "    <path d=\"M18.56 5.44l.94 2.06.94-2.06 2.06-.94-2.06-.94-.94-2.06-.94 2.06-2.06.94zm-11 1L8.5 8.5l.94-2.06 2.06-.94-2.06-.94L8.5 2.5l-.94 2.06-2.06.94zm10 10l.94 2.06.94-2.06 2.06-.94-2.06-.94-.94-2.06-.94 2.06-2.06.94z\"/><path d=\"M17.41 7.96l-1.37-1.37c-.4-.4-.92-.59-1.43-.59-.52 0-1.04.2-1.43.59L10.3 9.45l-7.72 7.72c-.78.78-.78 2.05 0 2.83L4 21.41c.39.39.9.59 1.41.59.51 0 1.02-.2 1.41-.59l7.78-7.78 2.81-2.81c.8-.78.8-2.07 0-2.86zM5.41 20L4 18.59l7.72-7.72 1.47 1.35L5.41 20z\"/>\n",
              "  </svg>\n",
              "      </button>\n",
              "      \n",
              "  <style>\n",
              "    .colab-df-container {\n",
              "      display:flex;\n",
              "      flex-wrap:wrap;\n",
              "      gap: 12px;\n",
              "    }\n",
              "\n",
              "    .colab-df-convert {\n",
              "      background-color: #E8F0FE;\n",
              "      border: none;\n",
              "      border-radius: 50%;\n",
              "      cursor: pointer;\n",
              "      display: none;\n",
              "      fill: #1967D2;\n",
              "      height: 32px;\n",
              "      padding: 0 0 0 0;\n",
              "      width: 32px;\n",
              "    }\n",
              "\n",
              "    .colab-df-convert:hover {\n",
              "      background-color: #E2EBFA;\n",
              "      box-shadow: 0px 1px 2px rgba(60, 64, 67, 0.3), 0px 1px 3px 1px rgba(60, 64, 67, 0.15);\n",
              "      fill: #174EA6;\n",
              "    }\n",
              "\n",
              "    [theme=dark] .colab-df-convert {\n",
              "      background-color: #3B4455;\n",
              "      fill: #D2E3FC;\n",
              "    }\n",
              "\n",
              "    [theme=dark] .colab-df-convert:hover {\n",
              "      background-color: #434B5C;\n",
              "      box-shadow: 0px 1px 3px 1px rgba(0, 0, 0, 0.15);\n",
              "      filter: drop-shadow(0px 1px 2px rgba(0, 0, 0, 0.3));\n",
              "      fill: #FFFFFF;\n",
              "    }\n",
              "  </style>\n",
              "\n",
              "      <script>\n",
              "        const buttonEl =\n",
              "          document.querySelector('#df-8bedcc8a-6b9d-4865-ac17-6ce7c00c2733 button.colab-df-convert');\n",
              "        buttonEl.style.display =\n",
              "          google.colab.kernel.accessAllowed ? 'block' : 'none';\n",
              "\n",
              "        async function convertToInteractive(key) {\n",
              "          const element = document.querySelector('#df-8bedcc8a-6b9d-4865-ac17-6ce7c00c2733');\n",
              "          const dataTable =\n",
              "            await google.colab.kernel.invokeFunction('convertToInteractive',\n",
              "                                                     [key], {});\n",
              "          if (!dataTable) return;\n",
              "\n",
              "          const docLinkHtml = 'Like what you see? Visit the ' +\n",
              "            '<a target=\"_blank\" href=https://colab.research.google.com/notebooks/data_table.ipynb>data table notebook</a>'\n",
              "            + ' to learn more about interactive tables.';\n",
              "          element.innerHTML = '';\n",
              "          dataTable['output_type'] = 'display_data';\n",
              "          await google.colab.output.renderOutput(dataTable, element);\n",
              "          const docLink = document.createElement('div');\n",
              "          docLink.innerHTML = docLinkHtml;\n",
              "          element.appendChild(docLink);\n",
              "        }\n",
              "      </script>\n",
              "    </div>\n",
              "  </div>\n",
              "  "
            ]
          },
          "metadata": {},
          "execution_count": 7
        }
      ]
    },
    {
      "cell_type": "code",
      "source": [
        "#query_frame = pd.read_csv('New_Query.txt')"
      ],
      "metadata": {
        "trusted": true,
        "id": "MAFncYdvdD1W"
      },
      "execution_count": 8,
      "outputs": []
    },
    {
      "cell_type": "code",
      "source": [
        "main_data = query_frame['count(event)'].values.astype(float)"
      ],
      "metadata": {
        "trusted": true,
        "id": "BdeD_HvVdD1X"
      },
      "execution_count": 9,
      "outputs": []
    },
    {
      "cell_type": "code",
      "source": [
        "fig_size = plt.rcParams[\"figure.figsize\"]\n",
        "fig_size[0] = 25\n",
        "fig_size[1] = 10\n",
        "plt.rcParams[\"figure.figsize\"] = fig_size"
      ],
      "metadata": {
        "trusted": true,
        "id": "RzaXFZuIdD1Y"
      },
      "execution_count": 10,
      "outputs": []
    },
    {
      "cell_type": "code",
      "source": [
        "x = query_frame['hour_']\n",
        "y = query_frame['count(event)'] \n",
        "plt.plot(x, y)\n",
        "plt.show()"
      ],
      "metadata": {
        "trusted": true,
        "colab": {
          "base_uri": "https://localhost:8080/",
          "height": 462
        },
        "id": "V5wAarVBdD1a",
        "outputId": "422900a9-ced3-41bc-a1f8-ffd7b5eb81c2"
      },
      "execution_count": 11,
      "outputs": [
        {
          "output_type": "display_data",
          "data": {
            "text/plain": [
              "<Figure size 1800x720 with 1 Axes>"
            ],
            "image/png": "[encoded data removed]"
          },
          "metadata": {
            "needs_background": "light"
          }
        }
      ]
    },
    {
      "cell_type": "code",
      "source": [
        "# Подготавливаем тестовые и трернировочне данные"
      ],
      "metadata": {
        "id": "iKTh0jLc4ggG"
      },
      "execution_count": null,
      "outputs": []
    },
    {
      "cell_type": "code",
      "source": [
        "window_size = 24\n",
        "\n",
        "train_data = main_data[:-window_size]\n",
        "test_data = main_data[-window_size:]\n"
      ],
      "metadata": {
        "trusted": true,
        "id": "vjHiY6gYdD1b"
      },
      "execution_count": 40,
      "outputs": []
    },
    {
      "cell_type": "code",
      "source": [
        "print(len(train_data))\n",
        "print(len(test_data))"
      ],
      "metadata": {
        "trusted": true,
        "colab": {
          "base_uri": "https://localhost:8080/"
        },
        "id": "N-tnbTJedD1d",
        "outputId": "98d6da4f-8d04-466c-cada-c01d881cf7ab"
      },
      "execution_count": 13,
      "outputs": [
        {
          "output_type": "stream",
          "name": "stdout",
          "text": [
            "1224\n",
            "24\n"
          ]
        }
      ]
    },
    {
      "cell_type": "code",
      "source": [
        "print(test_data)"
      ],
      "metadata": {
        "trusted": true,
        "id": "OH5NlhiWdD1e",
        "outputId": "4335d512-ba8b-4ce1-853e-284497dbe2cf",
        "colab": {
          "base_uri": "https://localhost:8080/"
        }
      },
      "execution_count": 14,
      "outputs": [
        {
          "output_type": "stream",
          "name": "stdout",
          "text": [
            "[14.  8.  4.  9. 10.  7. 11. 29. 30. 49. 65. 74. 77. 92. 70. 74. 74. 77.\n",
            " 70. 72. 66. 53. 56. 31.]\n"
          ]
        }
      ]
    },
    {
      "cell_type": "code",
      "source": [
        "# нормализация\n",
        "from sklearn.preprocessing import MinMaxScaler\n",
        "import numpy as np\n",
        "\n",
        "scaler = MinMaxScaler(feature_range=(-1, 1))\n",
        "y = y.values.reshape(-1,1)\n",
        "train_data_normalized = scaler.fit_transform(y)"
      ],
      "metadata": {
        "trusted": true,
        "id": "FaYYK9qddD1f"
      },
      "execution_count": 15,
      "outputs": []
    },
    {
      "cell_type": "code",
      "source": [
        "train_data_normalized = torch.FloatTensor(train_data_normalized).view(-1)\n",
        "train_data_normalized"
      ],
      "metadata": {
        "trusted": true,
        "id": "_A8SLlSPdD1g",
        "outputId": "ca96ae3a-67cf-45d6-edb8-9fa201d47b65",
        "colab": {
          "base_uri": "https://localhost:8080/"
        }
      },
      "execution_count": 16,
      "outputs": [
        {
          "output_type": "execute_result",
          "data": {
            "text/plain": [
              "tensor([-0.8838, -0.9486, -0.9531,  ..., -0.8905, -0.8838, -0.9397])"
            ]
          },
          "metadata": {},
          "execution_count": 16
        }
      ]
    },
    {
      "cell_type": "code",
      "source": [
        "\n",
        "# функция для создания кортежей из 24 элементов\n",
        "def window(data, nw):\n",
        "    sequences=[]\n",
        "    length_seq=len(data)\n",
        "    for i in range(length_seq-nw):\n",
        "        train_seq = data[i:i+nw]\n",
        "        train_mark = data[i+nw:i+nw+1]\n",
        "        sequences.append((train_seq, train_mark))\n",
        "    return sequences"
      ],
      "metadata": {
        "id": "xarAXJ5EJxLz"
      },
      "execution_count": 17,
      "outputs": []
    },
    {
      "cell_type": "code",
      "source": [
        "# создаём последовательности\n",
        "train_sequences = window(train_data_normalized,window_size)"
      ],
      "metadata": {
        "id": "oufmShZpVy81"
      },
      "execution_count": 18,
      "outputs": []
    },
    {
      "cell_type": "code",
      "source": [
        "train_sequences[:2]"
      ],
      "metadata": {
        "colab": {
          "base_uri": "https://localhost:8080/"
        },
        "id": "YZ-gh-XGWt3S",
        "outputId": "ad2518c4-d741-4a0e-dabf-b4147427948b"
      },
      "execution_count": 19,
      "outputs": [
        {
          "output_type": "execute_result",
          "data": {
            "text/plain": [
              "[(tensor([-0.8838, -0.9486, -0.9531, -0.9553, -0.9642, -0.9218, -0.9017, -0.7989,\n",
              "          -0.6849, -0.5553, -0.4279, -0.4324, -0.4257, -0.5173, -0.5218, -0.5575,\n",
              "          -0.5955, -0.6536, -0.7318, -0.7520, -0.8078, -0.8615, -0.8525, -0.9039]),\n",
              "  tensor([-0.9307])),\n",
              " (tensor([-0.9486, -0.9531, -0.9553, -0.9642, -0.9218, -0.9017, -0.7989, -0.6849,\n",
              "          -0.5553, -0.4279, -0.4324, -0.4257, -0.5173, -0.5218, -0.5575, -0.5955,\n",
              "          -0.6536, -0.7318, -0.7520, -0.8078, -0.8615, -0.8525, -0.9039, -0.9307]),\n",
              "  tensor([-0.9754]))]"
            ]
          },
          "metadata": {},
          "execution_count": 19
        }
      ]
    },
    {
      "cell_type": "code",
      "source": [
        "# LSTM\n",
        "class LSTM(nn.Module):\n",
        "    def __init__(self, input_size=1, hidden_layer_size=100, output_size=1):\n",
        "        super().__init__()\n",
        "        self.hidden_layer_size = hidden_layer_size\n",
        "\n",
        "        self.lstm = nn.LSTM(input_size, hidden_layer_size)\n",
        "\n",
        "        self.linear = nn.Linear(hidden_layer_size, output_size)\n",
        "\n",
        "        self.hidden_cell = (torch.zeros(1, 1, self.hidden_layer_size),\n",
        "                            torch.zeros(1, 1, self.hidden_layer_size)) # (num_layers * num_directions, batch_size, hidden_size)\n",
        "\n",
        "    def forward(self, input_seq):\n",
        "        lstm_out, self.hidden_cell = self.lstm(input_seq.view(len(input_seq) ,1, -1), self.hidden_cell)\n",
        "        predictions = self.linear(lstm_out.view(len(input_seq), -1))\n",
        "        return predictions[-1]"
      ],
      "metadata": {
        "id": "OeYYxP0WdD1h"
      },
      "execution_count": 20,
      "outputs": []
    },
    {
      "cell_type": "code",
      "source": [
        "model = LSTM()\n",
        "loss_function = nn.MSELoss()\n",
        "optimizer = torch.optim.Adam(model.parameters(), lr=0.001)"
      ],
      "metadata": {
        "id": "GEivvDxydD1i"
      },
      "execution_count": 21,
      "outputs": []
    },
    {
      "cell_type": "code",
      "source": [
        "print(model)"
      ],
      "metadata": {
        "colab": {
          "base_uri": "https://localhost:8080/"
        },
        "id": "pTQbEaZGYg6j",
        "outputId": "4ef6328c-a096-47f4-aae4-3fa862936ae4"
      },
      "execution_count": 22,
      "outputs": [
        {
          "output_type": "stream",
          "name": "stdout",
          "text": [
            "LSTM(\n",
            "  (lstm): LSTM(1, 100)\n",
            "  (linear): Linear(in_features=100, out_features=1, bias=True)\n",
            ")\n"
          ]
        }
      ]
    },
    {
      "cell_type": "code",
      "source": [
        "# обучение модели"
      ],
      "metadata": {
        "id": "a9POgMGY4sXY"
      },
      "execution_count": null,
      "outputs": []
    },
    {
      "cell_type": "code",
      "source": [
        "epochs = 10\n",
        "\n",
        "for i in range(epochs):\n",
        "    for seq, labels in train_sequences:\n",
        "        optimizer.zero_grad()\n",
        "        model.hidden_cell = (torch.zeros(1, 1, model.hidden_layer_size), torch.zeros(1, 1, model.hidden_layer_size))\n",
        "\n",
        "        y_pred = model(seq)\n",
        "\n",
        "        single_loss = loss_function(y_pred, labels)\n",
        "        single_loss.backward()\n",
        "        optimizer.step()\n",
        "\n",
        "    \n",
        "    print(f'epoch: {i:3} loss: {single_loss.item():10.8f}')\n",
        "\n",
        "print(f'epoch: {i:3} loss: {single_loss.item():10.10f}')"
      ],
      "metadata": {
        "id": "dzwn-75IdD1j",
        "colab": {
          "base_uri": "https://localhost:8080/"
        },
        "outputId": "658f24ab-5975-4069-a7e1-2089655fddbe"
      },
      "execution_count": 23,
      "outputs": [
        {
          "output_type": "stream",
          "name": "stdout",
          "text": [
            "epoch:   0 loss: 0.00128694\n",
            "epoch:   1 loss: 0.00021467\n",
            "epoch:   2 loss: 0.00266325\n",
            "epoch:   3 loss: 0.00352179\n",
            "epoch:   4 loss: 0.00387933\n",
            "epoch:   5 loss: 0.00373162\n",
            "epoch:   6 loss: 0.00365973\n",
            "epoch:   7 loss: 0.00327014\n",
            "epoch:   8 loss: 0.00272263\n",
            "epoch:   9 loss: 0.00251898\n",
            "epoch:   9 loss: 0.0025189794\n"
          ]
        }
      ]
    },
    {
      "cell_type": "code",
      "source": [
        "preds= 24\n",
        "test_inputs=train_data_normalized[-window_size:].tolist()"
      ],
      "metadata": {
        "id": "I5yL_AerZ-pg"
      },
      "execution_count": 24,
      "outputs": []
    },
    {
      "cell_type": "code",
      "source": [
        "test_inputs"
      ],
      "metadata": {
        "colab": {
          "base_uri": "https://localhost:8080/"
        },
        "id": "OSOU4kY8aUl7",
        "outputId": "6fcd9c6a-4525-4325-dc22-f767b848cd6d"
      },
      "execution_count": 25,
      "outputs": [
        {
          "output_type": "execute_result",
          "data": {
            "text/plain": [
              "[-0.9776536226272583,\n",
              " -0.9910614490509033,\n",
              " -1.0,\n",
              " -0.9888268113136292,\n",
              " -0.986592173576355,\n",
              " -0.9932960867881775,\n",
              " -0.9843575358390808,\n",
              " -0.9441340565681458,\n",
              " -0.9418994188308716,\n",
              " -0.8994413614273071,\n",
              " -0.8636871576309204,\n",
              " -0.8435754179954529,\n",
              " -0.8368715047836304,\n",
              " -0.8033519387245178,\n",
              " -0.8525139689445496,\n",
              " -0.8435754179954529,\n",
              " -0.8435754179954529,\n",
              " -0.8368715047836304,\n",
              " -0.8525139689445496,\n",
              " -0.8480446934700012,\n",
              " -0.8614525198936462,\n",
              " -0.8905028104782104,\n",
              " -0.8837988972663879,\n",
              " -0.9396647810935974]"
            ]
          },
          "metadata": {},
          "execution_count": 25
        }
      ]
    },
    {
      "cell_type": "code",
      "source": [
        "test_data"
      ],
      "metadata": {
        "colab": {
          "base_uri": "https://localhost:8080/"
        },
        "id": "wPlwVO9hbCx1",
        "outputId": "55c35c00-ef57-440d-b2ff-10aeb96deb09"
      },
      "execution_count": 26,
      "outputs": [
        {
          "output_type": "execute_result",
          "data": {
            "text/plain": [
              "array([14.,  8.,  4.,  9., 10.,  7., 11., 29., 30., 49., 65., 74., 77.,\n",
              "       92., 70., 74., 74., 77., 70., 72., 66., 53., 56., 31.])"
            ]
          },
          "metadata": {},
          "execution_count": 26
        }
      ]
    },
    {
      "cell_type": "code",
      "source": [
        "win=24"
      ],
      "metadata": {
        "id": "jPHiL806bOkj"
      },
      "execution_count": 27,
      "outputs": []
    },
    {
      "cell_type": "code",
      "source": [
        "model.eval()\n",
        "\n",
        "for i in range(len(test_data)):\n",
        "    seq = torch.FloatTensor(test_inputs[-win:])\n",
        "    with torch.no_grad():\n",
        "        model.hidden = (torch.zeros(1, 1, model.hidden_layer_size),\n",
        "                        torch.zeros(1, 1, model.hidden_layer_size))\n",
        "        test_inputs.append(model(seq).item())"
      ],
      "metadata": {
        "id": "EqLexnIcdD1k"
      },
      "execution_count": 28,
      "outputs": []
    },
    {
      "cell_type": "code",
      "source": [
        "test_inputs[win:]"
      ],
      "metadata": {
        "id": "dohNba0zdD1l",
        "colab": {
          "base_uri": "https://localhost:8080/"
        },
        "outputId": "034d2128-47c0-44ae-a3d1-590c46a668de"
      },
      "execution_count": 29,
      "outputs": [
        {
          "output_type": "execute_result",
          "data": {
            "text/plain": [
              "[-0.9532026648521423,\n",
              " -0.9706367254257202,\n",
              " -0.9824923276901245,\n",
              " -0.9914165735244751,\n",
              " -0.9970535635948181,\n",
              " -0.998712956905365,\n",
              " -0.9958479404449463,\n",
              " -0.9879106283187866,\n",
              " -0.9744935035705566,\n",
              " -0.956227719783783,\n",
              " -0.933762788772583,\n",
              " -0.9084650278091431,\n",
              " -0.8821272850036621,\n",
              " -0.8567239046096802,\n",
              " -0.8338789343833923,\n",
              " -0.8155342936515808,\n",
              " -0.8026384115219116,\n",
              " -0.7957050800323486,\n",
              " -0.7946325540542603,\n",
              " -0.7991036772727966,\n",
              " -0.8083478212356567,\n",
              " -0.8216252326965332,\n",
              " -0.838306188583374,\n",
              " -0.8574751615524292]"
            ]
          },
          "metadata": {},
          "execution_count": 29
        }
      ]
    },
    {
      "cell_type": "code",
      "source": [
        "test_inputs[:win]"
      ],
      "metadata": {
        "id": "RHo-dZwGmn6r",
        "outputId": "42e663ec-d791-4e0c-eb42-a03871687818",
        "colab": {
          "base_uri": "https://localhost:8080/"
        }
      },
      "execution_count": 30,
      "outputs": [
        {
          "output_type": "execute_result",
          "data": {
            "text/plain": [
              "[-0.9776536226272583,\n",
              " -0.9910614490509033,\n",
              " -1.0,\n",
              " -0.9888268113136292,\n",
              " -0.986592173576355,\n",
              " -0.9932960867881775,\n",
              " -0.9843575358390808,\n",
              " -0.9441340565681458,\n",
              " -0.9418994188308716,\n",
              " -0.8994413614273071,\n",
              " -0.8636871576309204,\n",
              " -0.8435754179954529,\n",
              " -0.8368715047836304,\n",
              " -0.8033519387245178,\n",
              " -0.8525139689445496,\n",
              " -0.8435754179954529,\n",
              " -0.8435754179954529,\n",
              " -0.8368715047836304,\n",
              " -0.8525139689445496,\n",
              " -0.8480446934700012,\n",
              " -0.8614525198936462,\n",
              " -0.8905028104782104,\n",
              " -0.8837988972663879,\n",
              " -0.9396647810935974]"
            ]
          },
          "metadata": {},
          "execution_count": 30
        }
      ]
    },
    {
      "cell_type": "code",
      "source": [
        "actual_predictions= scaler.inverse_transform(np.array(test_inputs[win:]).reshape(-1,1))"
      ],
      "metadata": {
        "id": "vtyDzyjbbzrj"
      },
      "execution_count": 31,
      "outputs": []
    },
    {
      "cell_type": "code",
      "source": [
        "real_meanings = scaler.inverse_transform(np.array(test_inputs[:win]).reshape(-1,1))"
      ],
      "metadata": {
        "id": "M_qWrESdnSUG"
      },
      "execution_count": 32,
      "outputs": []
    },
    {
      "cell_type": "code",
      "source": [
        "pred_meanings =actual_predictions"
      ],
      "metadata": {
        "id": "Erf85QNAcQMp"
      },
      "execution_count": 33,
      "outputs": []
    },
    {
      "cell_type": "code",
      "source": [
        "fig_size2 = plt.rcParams[\"figure.figsize\"]\n",
        "fig_size2[0] = 25\n",
        "fig_size2[1] = 10\n",
        "plt.rcParams[\"figure.figsize\"] = fig_size2"
      ],
      "metadata": {
        "id": "wB-kKM0OjoKJ"
      },
      "execution_count": 34,
      "outputs": []
    },
    {
      "cell_type": "code",
      "source": [
        "test_data"
      ],
      "metadata": {
        "colab": {
          "base_uri": "https://localhost:8080/"
        },
        "id": "7NXcp7_AkM9B",
        "outputId": "b8dd2561-a0ef-49da-bce5-d3f3086bc8db"
      },
      "execution_count": 35,
      "outputs": [
        {
          "output_type": "execute_result",
          "data": {
            "text/plain": [
              "array([14.,  8.,  4.,  9., 10.,  7., 11., 29., 30., 49., 65., 74., 77.,\n",
              "       92., 70., 74., 74., 77., 70., 72., 66., 53., 56., 31.])"
            ]
          },
          "metadata": {},
          "execution_count": 35
        }
      ]
    },
    {
      "cell_type": "code",
      "source": [
        "query_frame['hour_'][-24:]"
      ],
      "metadata": {
        "colab": {
          "base_uri": "https://localhost:8080/"
        },
        "id": "nkXd9DSzk27S",
        "outputId": "87e37968-5d2a-470c-cd57-a559d767539e"
      },
      "execution_count": 36,
      "outputs": [
        {
          "output_type": "execute_result",
          "data": {
            "text/plain": [
              "1230     31.07.2022 0:00\n",
              "1231     31.07.2022 1:00\n",
              "1232     31.07.2022 2:00\n",
              "1233     31.07.2022 3:00\n",
              "1234     31.07.2022 4:00\n",
              "1235     31.07.2022 5:00\n",
              "1236     31.07.2022 6:00\n",
              "1237     31.07.2022 7:00\n",
              "1238     31.07.2022 8:00\n",
              "1239     31.07.2022 9:00\n",
              "1240    31.07.2022 10:00\n",
              "1241    31.07.2022 11:00\n",
              "1242    31.07.2022 12:00\n",
              "1243    31.07.2022 13:00\n",
              "1244    31.07.2022 14:00\n",
              "1245    31.07.2022 15:00\n",
              "1246    31.07.2022 16:00\n",
              "1247    31.07.2022 17:00\n",
              "1248    31.07.2022 18:00\n",
              "1249    31.07.2022 19:00\n",
              "1250    31.07.2022 20:00\n",
              "1251    31.07.2022 21:00\n",
              "1252    31.07.2022 22:00\n",
              "1253    31.07.2022 23:00\n",
              "Name: hour_, dtype: object"
            ]
          },
          "metadata": {},
          "execution_count": 36
        }
      ]
    },
    {
      "cell_type": "code",
      "source": [
        "x = query_frame['hour_'][-win:]\n",
        "y = pred_meanings\n",
        "plt.plot(x, y)\n",
        "plt.show()"
      ],
      "metadata": {
        "colab": {
          "base_uri": "https://localhost:8080/",
          "height": 463
        },
        "id": "QD5XkXNujrzc",
        "outputId": "983d4b21-1309-4014-abae-6f0193d5f92b"
      },
      "execution_count": 37,
      "outputs": [
        {
          "output_type": "display_data",
          "data": {
            "text/plain": [
              "<Figure size 1800x720 with 1 Axes>"
            ],
            "image/png": "[encoded data removed]"
          },
          "metadata": {
            "needs_background": "light"
          }
        }
      ]
    },
    {
      "cell_type": "code",
      "source": [
        "y[0]"
      ],
      "metadata": {
        "id": "i_wyDWotnyLv",
        "outputId": "8a1a1af4-8975-4a71-f3f7-7b050c66b428",
        "colab": {
          "base_uri": "https://localhost:8080/"
        }
      },
      "execution_count": 38,
      "outputs": [
        {
          "output_type": "execute_result",
          "data": {
            "text/plain": [
              "array([24.94180748])"
            ]
          },
          "metadata": {},
          "execution_count": 38
        }
      ]
    },
    {
      "cell_type": "code",
      "source": [
        ""
      ],
      "metadata": {
        "id": "0xi8mOern1TJ"
      },
      "execution_count": 38,
      "outputs": []
    },
    {
      "cell_type": "code",
      "source": [
        "x2 = query_frame['hour_'][-win:]\n",
        "y2 = query_frame['count(event)'][-win:]\n",
        "plt.plot(x2, y2)\n",
        "plt.show()"
      ],
      "metadata": {
        "colab": {
          "base_uri": "https://localhost:8080/",
          "height": 464
        },
        "id": "SGzFJ1grlJID",
        "outputId": "57df408c-d0e8-4621-e379-ad2a16db67f1"
      },
      "execution_count": 39,
      "outputs": [
        {
          "output_type": "display_data",
          "data": {
            "text/plain": [
              "<Figure size 1800x720 with 1 Axes>"
            ],
            "image/png": "[encoded data removed]"
          },
          "metadata": {
            "needs_background": "light"
          }
        }
      ]
    },
    {
      "cell_type": "code",
      "source": [
        ""
      ],
      "metadata": {
        "id": "RMyDVzg8o_fi"
      },
      "execution_count": null,
      "outputs": []
    },
    {
      "cell_type": "code",
      "source": [
        "import torch.nn as nn\n",
        "\n",
        "class RNN_LSTM_Base(nn.Module):\n",
        "    def training_step(self, batch):\n",
        "        samples, targets = batch\n",
        "        outputs = self(samples.double())\n",
        "        loss = nn.functional.mse_loss(outputs, targets)\n",
        "        return loss\n",
        "\n",
        "class VanillaRNN(RNN_LSTM_Base):\n",
        "    def __init__(self, in_size=24, hid_size_rnn=100, hid_size_lin=100, out_size=24, n_layers=1):\n",
        "        super(VanillaRNN, self).__init__()\n",
        "        # Определяем размерность слоев\n",
        "        self.input_size = in_size\n",
        "        self.hidden_size_rnn = hid_size_rnn\n",
        "        self.hidden_size_lin = hid_size_lin\n",
        "        self.output_size = out_size\n",
        "        self.n_layers = n_layers\n",
        "        # Опредляем RNN слой\n",
        "        self.rnn = nn.RNN(in_size, hid_size_rnn, n_layers, batch_first=True)\n",
        "        # Определяем линейный слой\n",
        "        self.linear = nn.Linear(hid_size_lin, out_size)\n",
        "\n",
        "    def forward(self, x):\n",
        "        # x должен быть размера (batch_size, seq_len, input_size)\n",
        "        xb = x.view(x.size(0), x.size(1), self.input_size).double()\n",
        "        # Initialize the hidden layer's array of shape (n_layers*n_dirs, batch_size, hidden_size_rnn)\n",
        "        h0 = torch.zeros(self.n_layers, x.size(0), self.hidden_size_rnn, requires_grad=True).double()\n",
        "        # out is of shape (batch_size, seq_len, num_dirs*hidden_size_rnn)\n",
        "        out, hn = self.rnn(xb, h0)\n",
        "        # out needs to be reshaped into dimensions (batch_size, hidden_size_lin)\n",
        "        out = out.reshape(x.size(0), self.hidden_size_lin)\n",
        "        out = nn.functional.relu(out)\n",
        "        # Finally we get out in the shape (batch_size, output_size)\n",
        "        out = self.linear(out)\n",
        "        return out"
      ],
      "metadata": {
        "id": "5AOVYJYvo_k7"
      },
      "execution_count": null,
      "outputs": []
    },
    {
      "cell_type": "code",
      "source": [
        "def fit(epochs, lr, model, train_loader, test_loader, opt_func=torch.optim.SGD):\n",
        "    optimizer = opt_func(model.parameters(), lr)\n",
        "    for epoch in range(epochs):\n",
        "        # Training phase\n",
        "        model.train()\n",
        "        for batch in train_loader:\n",
        "            loss = model.training_step(batch)\n",
        "            # Calculate gradients from chain rule\n",
        "            loss.backward()\n",
        "            # Apply gradient descent step\n",
        "            optimizer.step()\n",
        "            # Remove gradients for next iteration\n",
        "            optimizer.zero_grad()\n",
        "    return 'Trained for {} epochs'.format(epochs) "
      ],
      "metadata": {
        "id": "_3E6zAyqqlZs"
      },
      "execution_count": null,
      "outputs": []
    }
  ]
}