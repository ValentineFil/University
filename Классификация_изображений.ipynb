{
  "nbformat": 4,
  "nbformat_minor": 0,
  "metadata": {
    "colab": {
      "provenance": [],
      "include_colab_link": true
    },
    "kernelspec": {
      "name": "python3",
      "display_name": "Python 3"
    },
    "language_info": {
      "name": "python"
    }
  },
  "cells": [
    {
      "cell_type": "markdown",
      "metadata": {
        "id": "view-in-github",
        "colab_type": "text"
      },
      "source": [
        "<a href=\"https://colab.research.google.com/github/ValentineFil/University/blob/main/%D0%9A%D0%BB%D0%B0%D1%81%D1%81%D0%B8%D1%84%D0%B8%D0%BA%D0%B0%D1%86%D0%B8%D1%8F_%D0%B8%D0%B7%D0%BE%D0%B1%D1%80%D0%B0%D0%B6%D0%B5%D0%BD%D0%B8%D0%B9.ipynb\" target=\"_parent\"><img src=\"https://colab.research.google.com/assets/colab-badge.svg\" alt=\"Open In Colab\"/></a>"
      ]
    },
    {
      "cell_type": "code",
      "source": [
        "from sklearn.datasets import fetch_olivetti_faces\n",
        "from sklearn.model_selection import train_test_split\n",
        "import matplotlib.pyplot as plt\n",
        "from sklearn import metrics\n",
        "import numpy as np\n",
        "from sklearn.preprocessing import label_binarize\n",
        "from sklearn.multiclass import OneVsRestClassifier\n",
        "from itertools import cycle\n",
        "from sklearn.metrics import roc_curve, auc\n",
        "from sklearn import metrics\n",
        "from sklearn import svm"
      ],
      "metadata": {
        "id": "cOfaZCPbesmz"
      },
      "execution_count": null,
      "outputs": []
    },
    {
      "cell_type": "markdown",
      "metadata": {
        "id": "lPYycPQtcQZU"
      },
      "source": [
        "# **Классификация изображений**"
      ]
    },
    {
      "cell_type": "code",
      "source": [
        "faces = fetch_olivetti_faces()\n",
        "print(faces.DESCR)"
      ],
      "metadata": {
        "colab": {
          "base_uri": "https://localhost:8080/"
        },
        "id": "f5gMZ8AHP4LG",
        "outputId": "fccdcf7a-6b86-4178-c27f-d3e4290cf729"
      },
      "execution_count": null,
      "outputs": [
        {
          "output_type": "stream",
          "name": "stdout",
          "text": [
            ".. _olivetti_faces_dataset:\n",
            "\n",
            "The Olivetti faces dataset\n",
            "--------------------------\n",
            "\n",
            "`This dataset contains a set of face images`_ taken between April 1992 and \n",
            "April 1994 at AT&T Laboratories Cambridge. The\n",
            ":func:`sklearn.datasets.fetch_olivetti_faces` function is the data\n",
            "fetching / caching function that downloads the data\n",
            "archive from AT&T.\n",
            "\n",
            ".. _This dataset contains a set of face images: http://www.cl.cam.ac.uk/research/dtg/attarchive/facedatabase.html\n",
            "\n",
            "As described on the original website:\n",
            "\n",
            "    There are ten different images of each of 40 distinct subjects. For some\n",
            "    subjects, the images were taken at different times, varying the lighting,\n",
            "    facial expressions (open / closed eyes, smiling / not smiling) and facial\n",
            "    details (glasses / no glasses). All the images were taken against a dark\n",
            "    homogeneous background with the subjects in an upright, frontal position \n",
            "    (with tolerance for some side movement).\n",
            "\n",
            "**Data Set Characteristics:**\n",
            "\n",
            "    =================   =====================\n",
            "    Classes                                40\n",
            "    Samples total                         400\n",
            "    Dimensionality                       4096\n",
            "    Features            real, between 0 and 1\n",
            "    =================   =====================\n",
            "\n",
            "The image is quantized to 256 grey levels and stored as unsigned 8-bit \n",
            "integers; the loader will convert these to floating point values on the \n",
            "interval [0, 1], which are easier to work with for many algorithms.\n",
            "\n",
            "The \"target\" for this database is an integer from 0 to 39 indicating the\n",
            "identity of the person pictured; however, with only 10 examples per class, this\n",
            "relatively small dataset is more interesting from an unsupervised or\n",
            "semi-supervised perspective.\n",
            "\n",
            "The original dataset consisted of 92 x 112, while the version available here\n",
            "consists of 64x64 images.\n",
            "\n",
            "When using these images, please give credit to AT&T Laboratories Cambridge.\n",
            "\n"
          ]
        }
      ]
    },
    {
      "cell_type": "code",
      "source": [
        "faces"
      ],
      "metadata": {
        "id": "ZF2dJckxUXFX",
        "colab": {
          "base_uri": "https://localhost:8080/"
        },
        "outputId": "9782a012-a4fd-4c86-bcc0-230c9383a180"
      },
      "execution_count": null,
      "outputs": [
        {
          "output_type": "execute_result",
          "data": {
            "text/plain": [
              "{'DESCR': '.. _olivetti_faces_dataset:\\n\\nThe Olivetti faces dataset\\n--------------------------\\n\\n`This dataset contains a set of face images`_ taken between April 1992 and \\nApril 1994 at AT&T Laboratories Cambridge. The\\n:func:`sklearn.datasets.fetch_olivetti_faces` function is the data\\nfetching / caching function that downloads the data\\narchive from AT&T.\\n\\n.. _This dataset contains a set of face images: http://www.cl.cam.ac.uk/research/dtg/attarchive/facedatabase.html\\n\\nAs described on the original website:\\n\\n    There are ten different images of each of 40 distinct subjects. For some\\n    subjects, the images were taken at different times, varying the lighting,\\n    facial expressions (open / closed eyes, smiling / not smiling) and facial\\n    details (glasses / no glasses). All the images were taken against a dark\\n    homogeneous background with the subjects in an upright, frontal position \\n    (with tolerance for some side movement).\\n\\n**Data Set Characteristics:**\\n\\n    =================   =====================\\n    Classes                                40\\n    Samples total                         400\\n    Dimensionality                       4096\\n    Features            real, between 0 and 1\\n    =================   =====================\\n\\nThe image is quantized to 256 grey levels and stored as unsigned 8-bit \\nintegers; the loader will convert these to floating point values on the \\ninterval [0, 1], which are easier to work with for many algorithms.\\n\\nThe \"target\" for this database is an integer from 0 to 39 indicating the\\nidentity of the person pictured; however, with only 10 examples per class, this\\nrelatively small dataset is more interesting from an unsupervised or\\nsemi-supervised perspective.\\n\\nThe original dataset consisted of 92 x 112, while the version available here\\nconsists of 64x64 images.\\n\\nWhen using these images, please give credit to AT&T Laboratories Cambridge.\\n',\n",
              " 'data': array([[0.30991736, 0.3677686 , 0.41735536, ..., 0.15289256, 0.16115703,\n",
              "         0.1570248 ],\n",
              "        [0.45454547, 0.47107437, 0.5123967 , ..., 0.15289256, 0.15289256,\n",
              "         0.15289256],\n",
              "        [0.3181818 , 0.40082645, 0.49173555, ..., 0.14049587, 0.14876033,\n",
              "         0.15289256],\n",
              "        ...,\n",
              "        [0.5       , 0.53305787, 0.607438  , ..., 0.17768595, 0.14876033,\n",
              "         0.19008264],\n",
              "        [0.21487603, 0.21900827, 0.21900827, ..., 0.57438016, 0.59090906,\n",
              "         0.60330576],\n",
              "        [0.5165289 , 0.46280992, 0.28099173, ..., 0.35950413, 0.3553719 ,\n",
              "         0.38429752]], dtype=float32),\n",
              " 'images': array([[[0.30991736, 0.3677686 , 0.41735536, ..., 0.37190083,\n",
              "          0.3305785 , 0.30578512],\n",
              "         [0.3429752 , 0.40495867, 0.43801653, ..., 0.37190083,\n",
              "          0.338843  , 0.3140496 ],\n",
              "         [0.3429752 , 0.41735536, 0.45041323, ..., 0.38016528,\n",
              "          0.338843  , 0.29752067],\n",
              "         ...,\n",
              "         [0.21487603, 0.20661157, 0.2231405 , ..., 0.15289256,\n",
              "          0.16528925, 0.17355372],\n",
              "         [0.20247933, 0.2107438 , 0.2107438 , ..., 0.14876033,\n",
              "          0.16115703, 0.16528925],\n",
              "         [0.20247933, 0.20661157, 0.20247933, ..., 0.15289256,\n",
              "          0.16115703, 0.1570248 ]],\n",
              " \n",
              "        [[0.45454547, 0.47107437, 0.5123967 , ..., 0.19008264,\n",
              "          0.18595041, 0.18595041],\n",
              "         [0.446281  , 0.48347107, 0.5206612 , ..., 0.21487603,\n",
              "          0.2107438 , 0.2107438 ],\n",
              "         [0.49586776, 0.5165289 , 0.53305787, ..., 0.20247933,\n",
              "          0.20661157, 0.20661157],\n",
              "         ...,\n",
              "         [0.77272725, 0.78099173, 0.7933884 , ..., 0.1446281 ,\n",
              "          0.1446281 , 0.1446281 ],\n",
              "         [0.77272725, 0.7768595 , 0.7892562 , ..., 0.13636364,\n",
              "          0.13636364, 0.13636364],\n",
              "         [0.7644628 , 0.7892562 , 0.78099173, ..., 0.15289256,\n",
              "          0.15289256, 0.15289256]],\n",
              " \n",
              "        [[0.3181818 , 0.40082645, 0.49173555, ..., 0.40082645,\n",
              "          0.3553719 , 0.30991736],\n",
              "         [0.30991736, 0.3966942 , 0.47933885, ..., 0.40495867,\n",
              "          0.37603307, 0.30165288],\n",
              "         [0.26859504, 0.34710744, 0.45454547, ..., 0.3966942 ,\n",
              "          0.37190083, 0.30991736],\n",
              "         ...,\n",
              "         [0.1322314 , 0.09917355, 0.08264463, ..., 0.13636364,\n",
              "          0.14876033, 0.15289256],\n",
              "         [0.11570248, 0.09504132, 0.0785124 , ..., 0.1446281 ,\n",
              "          0.1446281 , 0.1570248 ],\n",
              "         [0.11157025, 0.09090909, 0.0785124 , ..., 0.14049587,\n",
              "          0.14876033, 0.15289256]],\n",
              " \n",
              "        ...,\n",
              " \n",
              "        [[0.5       , 0.53305787, 0.607438  , ..., 0.28512397,\n",
              "          0.23966943, 0.21487603],\n",
              "         [0.49173555, 0.5413223 , 0.60330576, ..., 0.29752067,\n",
              "          0.20247933, 0.20661157],\n",
              "         [0.46694216, 0.55785125, 0.6198347 , ..., 0.29752067,\n",
              "          0.17768595, 0.18595041],\n",
              "         ...,\n",
              "         [0.03305785, 0.46280992, 0.5289256 , ..., 0.17355372,\n",
              "          0.17355372, 0.1694215 ],\n",
              "         [0.1570248 , 0.5247934 , 0.53305787, ..., 0.16528925,\n",
              "          0.1570248 , 0.18595041],\n",
              "         [0.45454547, 0.5206612 , 0.53305787, ..., 0.17768595,\n",
              "          0.14876033, 0.19008264]],\n",
              " \n",
              "        [[0.21487603, 0.21900827, 0.21900827, ..., 0.71487606,\n",
              "          0.71487606, 0.6942149 ],\n",
              "         [0.20247933, 0.20661157, 0.20661157, ..., 0.7107438 ,\n",
              "          0.7066116 , 0.6942149 ],\n",
              "         [0.2107438 , 0.20661157, 0.20661157, ..., 0.6859504 ,\n",
              "          0.69008267, 0.6942149 ],\n",
              "         ...,\n",
              "         [0.2644628 , 0.25619835, 0.2603306 , ..., 0.5413223 ,\n",
              "          0.57438016, 0.59090906],\n",
              "         [0.26859504, 0.2644628 , 0.26859504, ..., 0.56198347,\n",
              "          0.58264464, 0.59504133],\n",
              "         [0.27272728, 0.26859504, 0.27272728, ..., 0.57438016,\n",
              "          0.59090906, 0.60330576]],\n",
              " \n",
              "        [[0.5165289 , 0.46280992, 0.28099173, ..., 0.5785124 ,\n",
              "          0.5413223 , 0.60330576],\n",
              "         [0.5165289 , 0.45041323, 0.29338843, ..., 0.58264464,\n",
              "          0.553719  , 0.5785124 ],\n",
              "         [0.5165289 , 0.44214877, 0.29338843, ..., 0.59917355,\n",
              "          0.5785124 , 0.54545456],\n",
              "         ...,\n",
              "         [0.39256197, 0.41322315, 0.38842976, ..., 0.33471075,\n",
              "          0.37190083, 0.3966942 ],\n",
              "         [0.39256197, 0.38429752, 0.40495867, ..., 0.3305785 ,\n",
              "          0.35950413, 0.37603307],\n",
              "         [0.3677686 , 0.40495867, 0.3966942 , ..., 0.35950413,\n",
              "          0.3553719 , 0.38429752]]], dtype=float32),\n",
              " 'target': array([ 0,  0,  0,  0,  0,  0,  0,  0,  0,  0,  1,  1,  1,  1,  1,  1,  1,\n",
              "         1,  1,  1,  2,  2,  2,  2,  2,  2,  2,  2,  2,  2,  3,  3,  3,  3,\n",
              "         3,  3,  3,  3,  3,  3,  4,  4,  4,  4,  4,  4,  4,  4,  4,  4,  5,\n",
              "         5,  5,  5,  5,  5,  5,  5,  5,  5,  6,  6,  6,  6,  6,  6,  6,  6,\n",
              "         6,  6,  7,  7,  7,  7,  7,  7,  7,  7,  7,  7,  8,  8,  8,  8,  8,\n",
              "         8,  8,  8,  8,  8,  9,  9,  9,  9,  9,  9,  9,  9,  9,  9, 10, 10,\n",
              "        10, 10, 10, 10, 10, 10, 10, 10, 11, 11, 11, 11, 11, 11, 11, 11, 11,\n",
              "        11, 12, 12, 12, 12, 12, 12, 12, 12, 12, 12, 13, 13, 13, 13, 13, 13,\n",
              "        13, 13, 13, 13, 14, 14, 14, 14, 14, 14, 14, 14, 14, 14, 15, 15, 15,\n",
              "        15, 15, 15, 15, 15, 15, 15, 16, 16, 16, 16, 16, 16, 16, 16, 16, 16,\n",
              "        17, 17, 17, 17, 17, 17, 17, 17, 17, 17, 18, 18, 18, 18, 18, 18, 18,\n",
              "        18, 18, 18, 19, 19, 19, 19, 19, 19, 19, 19, 19, 19, 20, 20, 20, 20,\n",
              "        20, 20, 20, 20, 20, 20, 21, 21, 21, 21, 21, 21, 21, 21, 21, 21, 22,\n",
              "        22, 22, 22, 22, 22, 22, 22, 22, 22, 23, 23, 23, 23, 23, 23, 23, 23,\n",
              "        23, 23, 24, 24, 24, 24, 24, 24, 24, 24, 24, 24, 25, 25, 25, 25, 25,\n",
              "        25, 25, 25, 25, 25, 26, 26, 26, 26, 26, 26, 26, 26, 26, 26, 27, 27,\n",
              "        27, 27, 27, 27, 27, 27, 27, 27, 28, 28, 28, 28, 28, 28, 28, 28, 28,\n",
              "        28, 29, 29, 29, 29, 29, 29, 29, 29, 29, 29, 30, 30, 30, 30, 30, 30,\n",
              "        30, 30, 30, 30, 31, 31, 31, 31, 31, 31, 31, 31, 31, 31, 32, 32, 32,\n",
              "        32, 32, 32, 32, 32, 32, 32, 33, 33, 33, 33, 33, 33, 33, 33, 33, 33,\n",
              "        34, 34, 34, 34, 34, 34, 34, 34, 34, 34, 35, 35, 35, 35, 35, 35, 35,\n",
              "        35, 35, 35, 36, 36, 36, 36, 36, 36, 36, 36, 36, 36, 37, 37, 37, 37,\n",
              "        37, 37, 37, 37, 37, 37, 38, 38, 38, 38, 38, 38, 38, 38, 38, 38, 39,\n",
              "        39, 39, 39, 39, 39, 39, 39, 39, 39])}"
            ]
          },
          "metadata": {},
          "execution_count": 66
        }
      ]
    },
    {
      "cell_type": "code",
      "source": [
        "plt.imshow(faces.images[13], cmap = plt.cm.bone)"
      ],
      "metadata": {
        "colab": {
          "base_uri": "https://localhost:8080/",
          "height": 286
        },
        "id": "wCeNUDv7dveC",
        "outputId": "b7a57af5-6c66-46f3-d0b0-0ccd4b83bbf3"
      },
      "execution_count": null,
      "outputs": [
        {
          "output_type": "execute_result",
          "data": {
            "text/plain": [
              "<matplotlib.image.AxesImage at 0x7f8c6860be10>"
            ]
          },
          "metadata": {},
          "execution_count": 67
        },
        {
          "output_type": "display_data",
          "data": {
            "text/plain": [
              "<Figure size 432x288 with 1 Axes>"
            ],
            "image/png": "[encoded data removed]"
          },
          "metadata": {
            "needs_background": "light"
          }
        }
      ]
    },
    {
      "cell_type": "code",
      "source": [
        "plt.imshow(faces.images[19], cmap = plt.cm.bone)"
      ],
      "metadata": {
        "colab": {
          "base_uri": "https://localhost:8080/",
          "height": 286
        },
        "id": "NLunsFpjeaPk",
        "outputId": "f6b73a5a-f7af-41cb-8f16-5900feaa3d05"
      },
      "execution_count": null,
      "outputs": [
        {
          "output_type": "execute_result",
          "data": {
            "text/plain": [
              "<matplotlib.image.AxesImage at 0x7f8c6814cd50>"
            ]
          },
          "metadata": {},
          "execution_count": 68
        },
        {
          "output_type": "display_data",
          "data": {
            "text/plain": [
              "<Figure size 432x288 with 1 Axes>"
            ],
            "image/png": "[encoded data removed]"
          },
          "metadata": {
            "needs_background": "light"
          }
        }
      ]
    },
    {
      "cell_type": "code",
      "source": [
        "plt.imshow(faces.images[73], cmap = plt.cm.bone)"
      ],
      "metadata": {
        "colab": {
          "base_uri": "https://localhost:8080/",
          "height": 286
        },
        "id": "0WhihPaBecVb",
        "outputId": "be5db38e-60f9-49b7-b2a6-b570c356e919"
      },
      "execution_count": null,
      "outputs": [
        {
          "output_type": "execute_result",
          "data": {
            "text/plain": [
              "<matplotlib.image.AxesImage at 0x7f8c680c7250>"
            ]
          },
          "metadata": {},
          "execution_count": 69
        },
        {
          "output_type": "display_data",
          "data": {
            "text/plain": [
              "<Figure size 432x288 with 1 Axes>"
            ],
            "image/png": "[encoded data removed]"
          },
          "metadata": {
            "needs_background": "light"
          }
        }
      ]
    },
    {
      "cell_type": "code",
      "source": [
        "plt.imshow(faces.images[273], cmap = plt.cm.bone)"
      ],
      "metadata": {
        "colab": {
          "base_uri": "https://localhost:8080/",
          "height": 286
        },
        "id": "GEF7XEd5efGI",
        "outputId": "24c968e6-dc13-4b79-e113-dc26d3fdefc5"
      },
      "execution_count": null,
      "outputs": [
        {
          "output_type": "execute_result",
          "data": {
            "text/plain": [
              "<matplotlib.image.AxesImage at 0x7f8c68034710>"
            ]
          },
          "metadata": {},
          "execution_count": 70
        },
        {
          "output_type": "display_data",
          "data": {
            "text/plain": [
              "<Figure size 432x288 with 1 Axes>"
            ],
            "image/png": "[encoded data removed]"
          },
          "metadata": {
            "needs_background": "light"
          }
        }
      ]
    },
    {
      "cell_type": "code",
      "source": [
        "plt.imshow(faces.images[79], cmap = plt.cm.bone)"
      ],
      "metadata": {
        "colab": {
          "base_uri": "https://localhost:8080/",
          "height": 286
        },
        "id": "nkp9ZnuEe_mN",
        "outputId": "06388ae1-dd98-4cc7-83df-dd56a24fd87f"
      },
      "execution_count": null,
      "outputs": [
        {
          "output_type": "execute_result",
          "data": {
            "text/plain": [
              "<matplotlib.image.AxesImage at 0x7f8c68024b90>"
            ]
          },
          "metadata": {},
          "execution_count": 71
        },
        {
          "output_type": "display_data",
          "data": {
            "text/plain": [
              "<Figure size 432x288 with 1 Axes>"
            ],
            "image/png": "[encoded data removed]"
          },
          "metadata": {
            "needs_background": "light"
          }
        }
      ]
    },
    {
      "cell_type": "code",
      "source": [
        "X = faces.data\n",
        "Y = faces.target"
      ],
      "metadata": {
        "id": "ZW1QD1vbfb_H"
      },
      "execution_count": null,
      "outputs": []
    },
    {
      "cell_type": "code",
      "source": [
        "X"
      ],
      "metadata": {
        "colab": {
          "base_uri": "https://localhost:8080/"
        },
        "id": "Qw6Q8JhvfeSL",
        "outputId": "224066a2-4328-4339-a1f9-07d779c26791"
      },
      "execution_count": null,
      "outputs": [
        {
          "output_type": "execute_result",
          "data": {
            "text/plain": [
              "array([[0.30991736, 0.3677686 , 0.41735536, ..., 0.15289256, 0.16115703,\n",
              "        0.1570248 ],\n",
              "       [0.45454547, 0.47107437, 0.5123967 , ..., 0.15289256, 0.15289256,\n",
              "        0.15289256],\n",
              "       [0.3181818 , 0.40082645, 0.49173555, ..., 0.14049587, 0.14876033,\n",
              "        0.15289256],\n",
              "       ...,\n",
              "       [0.5       , 0.53305787, 0.607438  , ..., 0.17768595, 0.14876033,\n",
              "        0.19008264],\n",
              "       [0.21487603, 0.21900827, 0.21900827, ..., 0.57438016, 0.59090906,\n",
              "        0.60330576],\n",
              "       [0.5165289 , 0.46280992, 0.28099173, ..., 0.35950413, 0.3553719 ,\n",
              "        0.38429752]], dtype=float32)"
            ]
          },
          "metadata": {},
          "execution_count": 73
        }
      ]
    },
    {
      "cell_type": "code",
      "source": [
        "Y"
      ],
      "metadata": {
        "colab": {
          "base_uri": "https://localhost:8080/"
        },
        "id": "9aQjqlErfgB7",
        "outputId": "1a8b5b04-4b5a-43e2-8a7b-f4eb16e3aa7b"
      },
      "execution_count": null,
      "outputs": [
        {
          "output_type": "execute_result",
          "data": {
            "text/plain": [
              "array([ 0,  0,  0,  0,  0,  0,  0,  0,  0,  0,  1,  1,  1,  1,  1,  1,  1,\n",
              "        1,  1,  1,  2,  2,  2,  2,  2,  2,  2,  2,  2,  2,  3,  3,  3,  3,\n",
              "        3,  3,  3,  3,  3,  3,  4,  4,  4,  4,  4,  4,  4,  4,  4,  4,  5,\n",
              "        5,  5,  5,  5,  5,  5,  5,  5,  5,  6,  6,  6,  6,  6,  6,  6,  6,\n",
              "        6,  6,  7,  7,  7,  7,  7,  7,  7,  7,  7,  7,  8,  8,  8,  8,  8,\n",
              "        8,  8,  8,  8,  8,  9,  9,  9,  9,  9,  9,  9,  9,  9,  9, 10, 10,\n",
              "       10, 10, 10, 10, 10, 10, 10, 10, 11, 11, 11, 11, 11, 11, 11, 11, 11,\n",
              "       11, 12, 12, 12, 12, 12, 12, 12, 12, 12, 12, 13, 13, 13, 13, 13, 13,\n",
              "       13, 13, 13, 13, 14, 14, 14, 14, 14, 14, 14, 14, 14, 14, 15, 15, 15,\n",
              "       15, 15, 15, 15, 15, 15, 15, 16, 16, 16, 16, 16, 16, 16, 16, 16, 16,\n",
              "       17, 17, 17, 17, 17, 17, 17, 17, 17, 17, 18, 18, 18, 18, 18, 18, 18,\n",
              "       18, 18, 18, 19, 19, 19, 19, 19, 19, 19, 19, 19, 19, 20, 20, 20, 20,\n",
              "       20, 20, 20, 20, 20, 20, 21, 21, 21, 21, 21, 21, 21, 21, 21, 21, 22,\n",
              "       22, 22, 22, 22, 22, 22, 22, 22, 22, 23, 23, 23, 23, 23, 23, 23, 23,\n",
              "       23, 23, 24, 24, 24, 24, 24, 24, 24, 24, 24, 24, 25, 25, 25, 25, 25,\n",
              "       25, 25, 25, 25, 25, 26, 26, 26, 26, 26, 26, 26, 26, 26, 26, 27, 27,\n",
              "       27, 27, 27, 27, 27, 27, 27, 27, 28, 28, 28, 28, 28, 28, 28, 28, 28,\n",
              "       28, 29, 29, 29, 29, 29, 29, 29, 29, 29, 29, 30, 30, 30, 30, 30, 30,\n",
              "       30, 30, 30, 30, 31, 31, 31, 31, 31, 31, 31, 31, 31, 31, 32, 32, 32,\n",
              "       32, 32, 32, 32, 32, 32, 32, 33, 33, 33, 33, 33, 33, 33, 33, 33, 33,\n",
              "       34, 34, 34, 34, 34, 34, 34, 34, 34, 34, 35, 35, 35, 35, 35, 35, 35,\n",
              "       35, 35, 35, 36, 36, 36, 36, 36, 36, 36, 36, 36, 36, 37, 37, 37, 37,\n",
              "       37, 37, 37, 37, 37, 37, 38, 38, 38, 38, 38, 38, 38, 38, 38, 38, 39,\n",
              "       39, 39, 39, 39, 39, 39, 39, 39, 39])"
            ]
          },
          "metadata": {},
          "execution_count": 74
        }
      ]
    },
    {
      "cell_type": "code",
      "source": [
        "x_train, x_test, y_train, y_test = train_test_split(X, Y, test_size = 0.2, random_state = 0)"
      ],
      "metadata": {
        "id": "2hJSjpEHflbp"
      },
      "execution_count": null,
      "outputs": []
    },
    {
      "cell_type": "markdown",
      "source": [
        "## Метод опорных векторов"
      ],
      "metadata": {
        "id": "l2Kw02skqRxj"
      }
    },
    {
      "cell_type": "code",
      "source": [
        "SVC = svm.SVC()\n",
        "y_pred = SVC.fit(x_train, y_train).predict(x_test)"
      ],
      "metadata": {
        "id": "G94iLgMgba8k"
      },
      "execution_count": null,
      "outputs": []
    },
    {
      "cell_type": "code",
      "source": [
        "y_pred = SVC.predict(x_test)\n",
        "y_pred"
      ],
      "metadata": {
        "colab": {
          "base_uri": "https://localhost:8080/"
        },
        "outputId": "1ce19d69-a75a-4644-a3e9-7e25fa5fc6e2",
        "id": "RVLWN6ORba8k"
      },
      "execution_count": null,
      "outputs": [
        {
          "output_type": "execute_result",
          "data": {
            "text/plain": [
              "array([13, 30, 34, 19, 24,  6, 15, 26, 14, 21,  3, 13, 11, 39,  1,  5, 29,\n",
              "       14, 20, 19, 22, 26, 12, 39, 22, 31, 39,  1, 28, 10, 22, 30, 33, 22,\n",
              "        6,  7,  9, 22, 22, 39, 10, 32, 15,  7, 29,  5, 37, 25, 15, 23, 12,\n",
              "       14, 29, 22, 28, 31,  5,  1, 39,  4,  7, 27,  0, 35, 19, 37, 14, 39,\n",
              "       15, 31,  0, 26,  6,  2, 10,  1, 36, 30, 36, 32])"
            ]
          },
          "metadata": {},
          "execution_count": 77
        }
      ]
    },
    {
      "cell_type": "code",
      "source": [
        "metrics.confusion_matrix(y_test, y_pred)"
      ],
      "metadata": {
        "colab": {
          "base_uri": "https://localhost:8080/"
        },
        "outputId": "07a93d20-87a0-4ce5-aee3-c29e5c2fa741",
        "id": "KvpZEV-hba8l"
      },
      "execution_count": null,
      "outputs": [
        {
          "output_type": "execute_result",
          "data": {
            "text/plain": [
              "array([[2, 0, 0, ..., 0, 0, 1],\n",
              "       [0, 4, 0, ..., 0, 0, 0],\n",
              "       [0, 0, 1, ..., 0, 0, 1],\n",
              "       ...,\n",
              "       [0, 0, 0, ..., 2, 0, 0],\n",
              "       [0, 0, 0, ..., 0, 2, 0],\n",
              "       [0, 0, 0, ..., 0, 0, 1]])"
            ]
          },
          "metadata": {},
          "execution_count": 78
        }
      ]
    },
    {
      "cell_type": "code",
      "source": [
        "metrics.accuracy_score(y_test, y_pred)"
      ],
      "metadata": {
        "colab": {
          "base_uri": "https://localhost:8080/"
        },
        "outputId": "deec160a-7977-4552-86aa-a2de03441efd",
        "id": "D1eZwGHzba8m"
      },
      "execution_count": null,
      "outputs": [
        {
          "output_type": "execute_result",
          "data": {
            "text/plain": [
              "0.825"
            ]
          },
          "metadata": {},
          "execution_count": 79
        }
      ]
    },
    {
      "cell_type": "code",
      "source": [
        "metrics.precision_score(y_test, y_pred, average = 'micro')"
      ],
      "metadata": {
        "colab": {
          "base_uri": "https://localhost:8080/"
        },
        "outputId": "00f6a2a1-78d4-4fb7-9d43-da507df90f72",
        "id": "cyN2XATgba8m"
      },
      "execution_count": null,
      "outputs": [
        {
          "output_type": "execute_result",
          "data": {
            "text/plain": [
              "0.825"
            ]
          },
          "metadata": {},
          "execution_count": 80
        }
      ]
    },
    {
      "cell_type": "code",
      "source": [
        "metrics.recall_score(y_test, y_pred, average = 'micro')"
      ],
      "metadata": {
        "colab": {
          "base_uri": "https://localhost:8080/"
        },
        "outputId": "c3a1f497-b060-4c12-a210-8f4e9ac2c7d3",
        "id": "a-XfrUMYba8m"
      },
      "execution_count": null,
      "outputs": [
        {
          "output_type": "execute_result",
          "data": {
            "text/plain": [
              "0.825"
            ]
          },
          "metadata": {},
          "execution_count": 81
        }
      ]
    },
    {
      "cell_type": "code",
      "source": [
        "Y = label_binarize(Y, classes = np.unique(Y)[1:4])\n",
        "n_classes = Y.shape[1]\n",
        "x_train, x_test, y_train, y_test = train_test_split(X, Y, test_size = 0.2, random_state = 2)\n",
        "classifier = OneVsRestClassifier(SVC)\n",
        "y_score = classifier.fit(x_train, y_train).decision_function(x_test)\n",
        "fpr, tpr, roc_auc = {}, {}, {}\n",
        "for i in range(n_classes):\n",
        "    fpr[i], tpr[i], _ = roc_curve(y_test[:, i], y_score[:, i])\n",
        "    roc_auc[i] = auc(fpr[i], tpr[i])\n",
        "colors = cycle(['black', 'blue', 'red'])\n",
        "for i, color in zip(range(n_classes), colors):\n",
        "    plt.plot(fpr[i], tpr[i], color = color, lw=1,\n",
        "              label='ROC curve of class {0} (area = {1:0.2f})'\n",
        "              ''.format(i, roc_auc[i]))\n",
        "plt.plot([0, 1], [0, 1], 'k--', lw = 2)\n",
        "plt.xlim([-0.05, 1.0])\n",
        "plt.ylim([0.0, 1.05])\n",
        "plt.xlabel('False Positive Rate')\n",
        "plt.ylabel('True Positive Rate')\n",
        "\n",
        "plt.legend(loc = \"lower right\")\n",
        "plt.show()"
      ],
      "metadata": {
        "colab": {
          "base_uri": "https://localhost:8080/",
          "height": 279
        },
        "id": "v4_DDAgSeNfl",
        "outputId": "d2c50cf9-3b1b-4544-fe06-b9285aa082e1"
      },
      "execution_count": null,
      "outputs": [
        {
          "output_type": "display_data",
          "data": {
            "text/plain": [
              "<Figure size 432x288 with 1 Axes>"
            ],
            "image/png": "[encoded data removed]"
          },
          "metadata": {
            "needs_background": "light"
          }
        }
      ]
    }
  ]
}