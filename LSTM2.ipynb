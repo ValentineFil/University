{
  "metadata": {
    "language_info": {
      "codemirror_mode": {
        "name": "python",
        "version": 3
      },
      "file_extension": ".py",
      "mimetype": "text/x-python",
      "name": "python",
      "nbconvert_exporter": "python",
      "pygments_lexer": "ipython3",
      "version": "3.8"
    },
    "kernelspec": {
      "name": "python",
      "display_name": "Python (Pyodide)",
      "language": "python"
    }
  },
  "nbformat_minor": 4,
  "nbformat": 4,
  "cells": [
    {
      "cell_type": "code",
      "source": "import pandas as pd\nimport matplotlib as plt\nimport torch\nimport torch.nn as nn\nimport matplotlib.pyplot as plt\nfrom sklearn.preprocessing import MinMaxScaler\nimport numpy as np",
      "metadata": {
        "trusted": true
      },
      "execution_count": 1,
      "outputs": []
    },
    {
      "cell_type": "code",
      "source": "from google.colab import drive\ndrive.mount('/content/drive')",
      "metadata": {},
      "execution_count": null,
      "outputs": []
    },
    {
      "cell_type": "markdown",
      "source": "### 1 шаг",
      "metadata": {}
    },
    {
      "cell_type": "code",
      "source": "# извлекаем данные\nquery_frame = pd.read_csv('/content/drive/MyDrive/Colab Notebooks/Query.csv',sep=\";\")\nquery_frame",
      "metadata": {},
      "execution_count": null,
      "outputs": []
    },
    {
      "cell_type": "code",
      "source": "query_frame=query_frame.drop(columns=['Unnamed: 2'], axis=1)\nquery_frame=query_frame.drop(columns=['Unnamed: 3'], axis=1)\nquery_frame=query_frame[6:]\nquery_frame",
      "metadata": {},
      "execution_count": null,
      "outputs": []
    },
    {
      "cell_type": "code",
      "source": "main_data = query_frame['count(event)'].values.astype(float)",
      "metadata": {},
      "execution_count": null,
      "outputs": []
    },
    {
      "cell_type": "markdown",
      "source": "### 2 шаг",
      "metadata": {}
    },
    {
      "cell_type": "code",
      "source": "# строим график нашего временного ряда\nfig_size = plt.rcParams[\"figure.figsize\"]\nfig_size[0] = 25\nfig_size[1] = 10\nplt.rcParams[\"figure.figsize\"] = fig_size\nx = query_frame['hour_']\ny = query_frame['count(event)'] \nplt.plot(x, y)\nplt.show()",
      "metadata": {},
      "execution_count": null,
      "outputs": []
    },
    {
      "cell_type": "markdown",
      "source": "### 3 шаг",
      "metadata": {}
    },
    {
      "cell_type": "code",
      "source": "# будем предсказывать следующий 24-часовой период по прошлым периодам.\nwindow = 24\ntrain_data = main_data[:-window]\ntest_data = main_data[-window:]\nprint(len(train_data))\nprint(len(test_data))",
      "metadata": {
        "trusted": true
      },
      "execution_count": 5,
      "outputs": []
    },
    {
      "cell_type": "code",
      "source": "print(test_data)",
      "metadata": {},
      "execution_count": null,
      "outputs": []
    },
    {
      "cell_type": "code",
      "source": "def window2(data, nw):\n    features_set = []\n    labels = []\n    length_seq=len(data)\n    for i in range(window, length_seq-nw):\n        features_set.append(data[i-:i, 0])\n        labels.append(data[i, 0])\n        features_set, labels = np.array(features_set), np.array(labels)\n        features_set = np.reshape(features_set, (features_set.shape[0], features_set.shape[1], 1))\n        return features_set\nfeatures_set = window2(train_data, window)",
      "metadata": {},
      "execution_count": null,
      "outputs": []
    },
    {
      "cell_type": "markdown",
      "source": "### 4 шаг",
      "metadata": {}
    },
    {
      "cell_type": "code",
      "source": "# нормализация\nscaler = MinMaxScaler(feature_range=(-1, 1))\ny = y.values.reshape(-1,1)\ntrain_data_normalized = scaler.fit_transform(y)\ntrain_data_normalized = torch.FloatTensor(train_data_normalized).view(-1)\ntrain_data_normalized",
      "metadata": {},
      "execution_count": null,
      "outputs": []
    },
    {
      "cell_type": "markdown",
      "source": "### 5 шаг",
      "metadata": {}
    },
    {
      "cell_type": "code",
      "source": "from keras.models import Sequential\nfrom keras.layers import Dense\nfrom keras.layers import LSTM\nfrom keras.layers import Dropout",
      "metadata": {},
      "execution_count": null,
      "outputs": []
    },
    {
      "cell_type": "code",
      "source": "# создание модели",
      "metadata": {},
      "execution_count": null,
      "outputs": []
    },
    {
      "cell_type": "code",
      "source": "model = Sequential()\n# Создание слоев LSTM и Dropout\nmodel.add(LSTM(units=50, return_sequences=True, input_shape=(features_set.shape[1], 1)))\nmodel.add(Dropout(0.2))\n\nmodel.add(LSTM(units=50, return_sequences=True))\nmodel.add(Dropout(0.2))\n\nmodel.add(LSTM(units=50, return_sequences=True))\nmodel.add(Dropout(0.2))\n\nmodel.add(LSTM(units=50))\nmodel.add(Dropout(0.2))\nmodel.add(Dense(units = 1))\n\nmodel.add(Dense(units = 1))",
      "metadata": {},
      "execution_count": null,
      "outputs": []
    },
    {
      "cell_type": "code",
      "source": "model.compile(optimizer = 'adam', loss = 'mean_squared_error')\nmodel.fit(features_set, labels, epochs = 100, batch_size = 32)",
      "metadata": {},
      "execution_count": null,
      "outputs": []
    },
    {
      "cell_type": "markdown",
      "source": "### 6 шаг ",
      "metadata": {}
    },
    {
      "cell_type": "code",
      "source": "# проверка на тестовом датасете\ntest_features = np.array(test_data)\ntest_features = np.reshape(test_features, (test_features.shape[0], test_features.shape[1], 1))",
      "metadata": {},
      "execution_count": null,
      "outputs": []
    },
    {
      "cell_type": "code",
      "source": "predictions = model.predict(test_features)\npredictions = scaler.inverse_transform(predictions)",
      "metadata": {},
      "execution_count": null,
      "outputs": []
    },
    {
      "cell_type": "markdown",
      "source": "### 7 шаг",
      "metadata": {}
    },
    {
      "cell_type": "code",
      "source": "# визуализация предсказаний\nplt.figure(figsize=(10,6))\nplt.plot(apple_testing_processed, color='blue', label='Actual Apple Stock Price')\nplt.plot(predictions , color='red', label='Predicted Apple Stock Price')\nplt.title('Apple Stock Price Prediction')\nplt.xlabel('Date')\nplt.ylabel('Apple Stock Price')\nplt.legend()\nplt.show()",
      "metadata": {},
      "execution_count": null,
      "outputs": []
    }
  ]
}