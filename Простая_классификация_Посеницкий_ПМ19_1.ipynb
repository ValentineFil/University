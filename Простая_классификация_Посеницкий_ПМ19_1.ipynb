{
  "nbformat": 4,
  "nbformat_minor": 0,
  "metadata": {
    "colab": {
      "provenance": [],
      "collapsed_sections": [],
      "include_colab_link": true
    },
    "kernelspec": {
      "name": "python3",
      "display_name": "Python 3"
    },
    "language_info": {
      "name": "python"
    }
  },
  "cells": [
    {
      "cell_type": "markdown",
      "metadata": {
        "id": "view-in-github",
        "colab_type": "text"
      },
      "source": [
        "<a href=\"https://colab.research.google.com/github/ValentineFil/University/blob/main/%D0%9F%D1%80%D0%BE%D1%81%D1%82%D0%B0%D1%8F_%D0%BA%D0%BB%D0%B0%D1%81%D1%81%D0%B8%D1%84%D0%B8%D0%BA%D0%B0%D1%86%D0%B8%D1%8F_%D0%9F%D0%BE%D1%81%D0%B5%D0%BD%D0%B8%D1%86%D0%BA%D0%B8%D0%B9_%D0%9F%D0%9C19_1.ipynb\" target=\"_parent\"><img src=\"https://colab.research.google.com/assets/colab-badge.svg\" alt=\"Open In Colab\"/></a>"
      ]
    },
    {
      "cell_type": "code",
      "source": [
        "import pandas as pd\n",
        "from sklearn.model_selection import train_test_split\n",
        "from sklearn.linear_model import LogisticRegression\n",
        "from sklearn import metrics\n",
        "import  numpy as np\n",
        "import matplotlib.pyplot as plt\n",
        "import seaborn as sns"
      ],
      "metadata": {
        "id": "w9q0OH_-LMJF"
      },
      "execution_count": null,
      "outputs": []
    },
    {
      "cell_type": "markdown",
      "source": [
        "Для начала работы обратимся к набору данных pima-indian-diabetes. Это довольно известный датасет, собравший информацию о медицинских показателях порядка 700 пациентов, обследованных на предмет наличия сахарного диабета. На нем мы потренируемся строить классификационные модели. \n"
      ],
      "metadata": {
        "id": "PaYKm-xpKxn1"
      }
    },
    {
      "cell_type": "code",
      "execution_count": null,
      "metadata": {
        "id": "hDN2S2TmIIwu"
      },
      "outputs": [],
      "source": [
        "col_names = ['pregnant', 'glucose', 'bp', 'skin', 'insulin', 'bmi', 'pedigree', 'age', 'label']\n",
        "pima = pd.read_csv('diabetes.csv', header=None, names=col_names)\n",
        "pima = pd.read_csv(\"diabetes.csv\")\n",
        "pima.rename(columns={'Outcome': 'label'}, inplace=True)\n",
        "pima = pima.astype({\"label\": \"int\"})\n",
        "pima = pima[1:]"
      ]
    },
    {
      "cell_type": "markdown",
      "source": [
        "При проведении серьезного анализа перед построением модели машинного обучения нужно провести тщательную обработку и очистку набора данных - удаление пропущенных значений, анализ шкал, нормализация, удаление выбросов и аномалий. Используемый нами набор - сам по себе довольно чистый, потому в учебных целях пропустим этот шаг.\n",
        "\n",
        "Выделим целевую переменную и факторы:\n"
      ],
      "metadata": {
        "id": "sZh66M_kKs5k"
      }
    },
    {
      "cell_type": "code",
      "source": [
        "Y = pima.label\n",
        "X = pima.drop(['label'], axis=1)"
      ],
      "metadata": {
        "id": "teLyRbnFIue8"
      },
      "execution_count": null,
      "outputs": []
    },
    {
      "cell_type": "markdown",
      "source": [
        "Разделим набор данных на обучающую и тестовую выборки:"
      ],
      "metadata": {
        "id": "RYpbszNiKqSN"
      }
    },
    {
      "cell_type": "code",
      "source": [
        "x_train, x_test, y_train, y_test = train_test_split(X, Y, test_size=0.2, random_state=18)"
      ],
      "metadata": {
        "id": "O0kgLCCdIyPU"
      },
      "execution_count": null,
      "outputs": []
    },
    {
      "cell_type": "markdown",
      "source": [
        "В данном случае мы используем удобную встроенную функцию sklearn для разбиения выборки. Мы используем соотношение 80/20 для обучающей и тестовой выборки. Соотношение может колебаться и зависит от множества факторов, но 80/20 - хорошее значение по умолчанию.\n",
        "\n",
        "Построим модель логистической регрессии:\n"
      ],
      "metadata": {
        "id": "LCkPbFHWKnw_"
      }
    },
    {
      "cell_type": "code",
      "source": [
        "cls = LogisticRegression()"
      ],
      "metadata": {
        "id": "b3f33wZ-I5Gu"
      },
      "execution_count": null,
      "outputs": []
    },
    {
      "cell_type": "markdown",
      "source": [
        "Здесь мы создаем объект классификатора, используя конструктор по умолчанию. Если нам нужно изменить стандартные параметры логистической регрессии (например, задать значение параметра регуляризации), то это можно сделать именно на этом этапе.\n",
        "\n",
        "Обучим наш классификатор на обучающей выборке:\n"
      ],
      "metadata": {
        "id": "kBaR28UDKk8t"
      }
    },
    {
      "cell_type": "code",
      "source": [
        "cls.fit(x_train, y_train)"
      ],
      "metadata": {
        "colab": {
          "base_uri": "https://localhost:8080/"
        },
        "id": "lJkYTS0-I9Ok",
        "outputId": "a3dd527f-2c61-4a28-feb7-d1b848c880e4"
      },
      "execution_count": null,
      "outputs": [
        {
          "output_type": "stream",
          "name": "stderr",
          "text": [
            "/usr/local/lib/python3.7/dist-packages/sklearn/linear_model/_logistic.py:818: ConvergenceWarning: lbfgs failed to converge (status=1):\n",
            "STOP: TOTAL NO. of ITERATIONS REACHED LIMIT.\n",
            "\n",
            "Increase the number of iterations (max_iter) or scale the data as shown in:\n",
            "    https://scikit-learn.org/stable/modules/preprocessing.html\n",
            "Please also refer to the documentation for alternative solver options:\n",
            "    https://scikit-learn.org/stable/modules/linear_model.html#logistic-regression\n",
            "  extra_warning_msg=_LOGISTIC_SOLVER_CONVERGENCE_MSG,\n"
          ]
        },
        {
          "output_type": "execute_result",
          "data": {
            "text/plain": [
              "LogisticRegression()"
            ]
          },
          "metadata": {},
          "execution_count": 28
        }
      ]
    },
    {
      "cell_type": "markdown",
      "source": [
        "Для оценки эффективности полученной модели сделаем предсказания по нашему классификатору на тестовой выборке (там, где мы уже знаем правильные ответы, чтобы сравнить, насколько предсказания расходятся с действительностью):"
      ],
      "metadata": {
        "id": "mnAIRsBkKigl"
      }
    },
    {
      "cell_type": "code",
      "source": [
        "y_pred = cls.predict(x_test)"
      ],
      "metadata": {
        "id": "91ZLlqP7JSqz"
      },
      "execution_count": null,
      "outputs": []
    },
    {
      "cell_type": "markdown",
      "source": [
        "Оценим эффективность предсказания тестовой выборки при помощи матрицы классификации:"
      ],
      "metadata": {
        "id": "EbRRd7oYKc9m"
      }
    },
    {
      "cell_type": "code",
      "source": [
        "metrics.confusion_matrix(y_test, y_pred)"
      ],
      "metadata": {
        "colab": {
          "base_uri": "https://localhost:8080/"
        },
        "id": "Nz0Opt0yJUgm",
        "outputId": "a9f3e845-0918-4f17-e43e-e616ff8a0877"
      },
      "execution_count": null,
      "outputs": [
        {
          "output_type": "execute_result",
          "data": {
            "text/plain": [
              "array([[94, 17],\n",
              "       [21, 22]])"
            ]
          },
          "metadata": {},
          "execution_count": 30
        }
      ]
    },
    {
      "cell_type": "markdown",
      "source": [
        "Матрица классификации показывает нам очень полезную информацию: совместное распределение числа объектов предсказанных и реальных классов. Рассматривая эту матрицу мы можем получить важную информацию: сколько объектов мы классифицировали правильно, сколько неверно, к каким классам наша модель тяготеет, какие классы распознаются хорошо, какие - плохо.\n",
        "\n",
        "То же самое в графической форме:\n"
      ],
      "metadata": {
        "id": "thcH6B_hLAtW"
      }
    },
    {
      "cell_type": "code",
      "source": [
        "%matplotlib inline\n",
        " \n",
        "class_names = [0, 1]\n",
        "fig, ax = plt.subplots()\n",
        "ticks = np.arange(len(class_names))\n",
        "plt.xticks(ticks, class_names)\n",
        "plt.yticks(ticks, class_names)\n",
        " \n",
        "sns.heatmap(pd.DataFrame(metrics.confusion_matrix(y_test, y_pred)), annot=True)\n",
        "plt.ylabel('Действительные значения')\n",
        "plt.xlabel('Предсказанные значения')"
      ],
      "metadata": {
        "colab": {
          "base_uri": "https://localhost:8080/",
          "height": 296
        },
        "id": "4qSkOSNLJYTu",
        "outputId": "1c4a73c4-ac86-4de6-f024-451a43013e88"
      },
      "execution_count": null,
      "outputs": [
        {
          "output_type": "execute_result",
          "data": {
            "text/plain": [
              "Text(0.5, 15.0, 'Предсказанные значения')"
            ]
          },
          "metadata": {},
          "execution_count": 31
        },
        {
          "output_type": "display_data",
          "data": {
            "text/plain": [
              "<Figure size 432x288 with 2 Axes>"
            ],
            "image/png": "[encoded data removed]"
          },
          "metadata": {
            "needs_background": "light"
          }
        }
      ]
    },
    {
      "cell_type": "markdown",
      "source": [
        "Метрика достоверности предсказания:"
      ],
      "metadata": {
        "id": "J98pVfNGKLH3"
      }
    },
    {
      "cell_type": "code",
      "source": [
        "metrics.accuracy_score(y_test, y_pred)"
      ],
      "metadata": {
        "colab": {
          "base_uri": "https://localhost:8080/"
        },
        "id": "T-lX7_JmJbTs",
        "outputId": "5a1a3595-26ba-46c2-949c-e14cd7e85711"
      },
      "execution_count": null,
      "outputs": [
        {
          "output_type": "execute_result",
          "data": {
            "text/plain": [
              "0.7532467532467533"
            ]
          },
          "metadata": {},
          "execution_count": 32
        }
      ]
    },
    {
      "cell_type": "markdown",
      "source": [
        "Метрика точности:"
      ],
      "metadata": {
        "id": "R9pMt6dSKNin"
      }
    },
    {
      "cell_type": "code",
      "source": [
        "metrics.precision_score(y_test, y_pred)"
      ],
      "metadata": {
        "colab": {
          "base_uri": "https://localhost:8080/"
        },
        "id": "LM7P-7qkJdvF",
        "outputId": "8955ac06-85af-40c7-d6a9-3028b3c6d6a5"
      },
      "execution_count": null,
      "outputs": [
        {
          "output_type": "execute_result",
          "data": {
            "text/plain": [
              "0.5641025641025641"
            ]
          },
          "metadata": {},
          "execution_count": 33
        }
      ]
    },
    {
      "cell_type": "markdown",
      "source": [
        "Метрика полноты:"
      ],
      "metadata": {
        "id": "VGQsg884KRXM"
      }
    },
    {
      "cell_type": "code",
      "source": [
        "metrics.recall_score(y_test, y_pred)"
      ],
      "metadata": {
        "colab": {
          "base_uri": "https://localhost:8080/"
        },
        "id": "1Hyeaf_SJldR",
        "outputId": "a81ab222-7a65-48f9-f15c-cae3b6a2fb18"
      },
      "execution_count": null,
      "outputs": [
        {
          "output_type": "execute_result",
          "data": {
            "text/plain": [
              "0.5116279069767442"
            ]
          },
          "metadata": {},
          "execution_count": 34
        }
      ]
    }
  ]
}